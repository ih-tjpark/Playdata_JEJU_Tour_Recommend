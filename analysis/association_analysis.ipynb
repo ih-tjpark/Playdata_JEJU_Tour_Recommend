{
 "cells": [
  {
   "cell_type": "markdown",
   "id": "8159531b",
   "metadata": {},
   "source": [
    "# 키워드 연관 분석 진행\n",
    "1. 관광지 전체 키워드 리스트를 생성\n",
    "2. 키워드 리스트를 SBERT를 이용해 임베딩\n",
    "3. 관광지 별 블로그글을 SBERT를 이용해 임베딩\n",
    "4. 관광지 별로 전체 키워드들의 연관도 Cosain 유사도를 이용해 추출"
   ]
  },
  {
   "cell_type": "code",
   "execution_count": 22,
   "id": "a00c4ce2",
   "metadata": {},
   "outputs": [],
   "source": [
    "import pandas as pd\n",
    "import numpy as np\n",
    "import re\n",
    "\n",
    "from collections import Counter\n",
    "from konlpy.tag import Okt\n",
    "from sklearn.feature_extraction.text import CountVectorizer\n",
    "from sklearn.feature_extraction.text import TfidfVectorizer\n",
    "from sklearn.metrics.pairwise import cosine_similarity\n",
    "from sentence_transformers import SentenceTransformer\n",
    "\n",
    "okt = Okt()\n",
    "\n",
    "# 한국어를 포함하고 있는 다국어 SBERT load\n",
    "model = SentenceTransformer('sentence-transformers/xlm-r-100langs-bert-base-nli-stsb-mean-tokens')"
   ]
  },
  {
   "cell_type": "code",
   "execution_count": 4,
   "id": "1d0e6bad",
   "metadata": {
    "scrolled": true
   },
   "outputs": [
    {
     "data": {
      "text/html": [
       "<div>\n",
       "<style scoped>\n",
       "    .dataframe tbody tr th:only-of-type {\n",
       "        vertical-align: middle;\n",
       "    }\n",
       "\n",
       "    .dataframe tbody tr th {\n",
       "        vertical-align: top;\n",
       "    }\n",
       "\n",
       "    .dataframe thead th {\n",
       "        text-align: right;\n",
       "    }\n",
       "</style>\n",
       "<table border=\"1\" class=\"dataframe\">\n",
       "  <thead>\n",
       "    <tr style=\"text-align: right;\">\n",
       "      <th></th>\n",
       "      <th>source</th>\n",
       "      <th>content</th>\n",
       "      <th>postdate</th>\n",
       "      <th>platform</th>\n",
       "      <th>keyword</th>\n",
       "    </tr>\n",
       "  </thead>\n",
       "  <tbody>\n",
       "    <tr>\n",
       "      <th>0</th>\n",
       "      <td>아르떼뮤지엄</td>\n",
       "      <td>강릉 여행 드라이브 코스 강원도 바다 강릉 아르떼뮤지엄 동생 함께 강원도 드라이브 ...</td>\n",
       "      <td>20220225</td>\n",
       "      <td>naver</td>\n",
       "      <td>강릉시,즐거움,주차장,평창동계올림픽,자연,중앙시장,경험,청소년,음식,유명해서,디지털...</td>\n",
       "    </tr>\n",
       "    <tr>\n",
       "      <th>1</th>\n",
       "      <td>아르떼뮤지엄</td>\n",
       "      <td>#아르떼뮤지엄 #아르떼뮤지엄강릉 아르떼뮤지엄 강릉 다시 어가 강릉 여행기 제주 시작...</td>\n",
       "      <td>20220217</td>\n",
       "      <td>naver</td>\n",
       "      <td>주차장,관람객,함정,아르떼뮤지엄강릉,많은데,미디어,접근성,도시,정원,전시관,타이밍,...</td>\n",
       "    </tr>\n",
       "    <tr>\n",
       "      <th>2</th>\n",
       "      <td>아르떼뮤지엄</td>\n",
       "      <td>안녕하세요 헤라 입니다 드디어 제주여행 이야기 끝나고 다녀온 가족여행 포스팅 있게 ...</td>\n",
       "      <td>20220228</td>\n",
       "      <td>naver</td>\n",
       "      <td>입장권,가족여행,바쁘,낭만,여친,정원,인기,블로그,보름달,노란색,체험,금요일,부지런...</td>\n",
       "    </tr>\n",
       "    <tr>\n",
       "      <th>3</th>\n",
       "      <td>아르떼뮤지엄</td>\n",
       "      <td>지난주 가족 제주여행 해안도로 산책 제주도 다녀왔어요 와중 제주 아르떼뮤지엄 맛집 ...</td>\n",
       "      <td>20220127</td>\n",
       "      <td>naver</td>\n",
       "      <td>대만족,식당,멸치볶음,공간,제주공항,우정,중독,산책,메뉴판,영업,부모님,은빛,주차장...</td>\n",
       "    </tr>\n",
       "    <tr>\n",
       "      <th>4</th>\n",
       "      <td>아르떼뮤지엄</td>\n",
       "      <td>안녕하세요 😄#국내여행 #아기랑여행 #아기랑국내여행목포에서 아침 먹이 숙소 오금 뒹...</td>\n",
       "      <td>20220312</td>\n",
       "      <td>naver</td>\n",
       "      <td>여수꽃돌게장1번가게장맛집이,음식,공룡,박람회,전기차,주차장,아기랑국내여행목포에서,볶...</td>\n",
       "    </tr>\n",
       "    <tr>\n",
       "      <th>...</th>\n",
       "      <td>...</td>\n",
       "      <td>...</td>\n",
       "      <td>...</td>\n",
       "      <td>...</td>\n",
       "      <td>...</td>\n",
       "    </tr>\n",
       "    <tr>\n",
       "      <th>78926</th>\n",
       "      <td>김택화미술관</td>\n",
       "      <td>인정 많고 좋은 신흥리 김택화미술관 개관 했다 한라산 남긴 김택화 화백 작품 바탕 ...</td>\n",
       "      <td>20200805</td>\n",
       "      <td>brunch</td>\n",
       "      <td>김택화,서울,비평가,학교,헌신,한국,신흥리,가구,스케치,귀하,쓰레기,공간,사이클링,...</td>\n",
       "    </tr>\n",
       "    <tr>\n",
       "      <th>78927</th>\n",
       "      <td>김택화미술관</td>\n",
       "      <td>어느덧 여행 마지막 되었다 조식 먹고 숙소 맡기고 나오는데 벌써 아쉬운 마음이 든다...</td>\n",
       "      <td>20210325</td>\n",
       "      <td>brunch</td>\n",
       "      <td>김택화,항쟁,서점,의존,인터뷰,테마파크,스케치,인터넷,버스,목재,거리,공간,역사,황...</td>\n",
       "    </tr>\n",
       "    <tr>\n",
       "      <th>78928</th>\n",
       "      <td>김택화미술관</td>\n",
       "      <td>오늘 아가 생일 돌잔치 치렀고 남편 서울 있으니 잔치 분위기 없지만 하루 종일 뭉클...</td>\n",
       "      <td>20211124</td>\n",
       "      <td>brunch</td>\n",
       "      <td>요구르트,고생,서울,존경,생일,수프,계란,소주,열정,없었던,고향,청귤,문화,샌드위치...</td>\n",
       "    </tr>\n",
       "    <tr>\n",
       "      <th>78929</th>\n",
       "      <td>김택화미술관</td>\n",
       "      <td>세번 베케 트래블 테크 분야 뉴스 리핑 입니다 트립소 제주도 어디 가봤니 체결 계약...</td>\n",
       "      <td>20211119</td>\n",
       "      <td>brunch</td>\n",
       "      <td>론칭김택화,경쟁,가상세계,관광,다채롭,시장,투어,단독,콘텐츠,전략,창업,고객,백신,...</td>\n",
       "    </tr>\n",
       "    <tr>\n",
       "      <th>78930</th>\n",
       "      <td>김택화미술관</td>\n",
       "      <td>우리 살때 화가 였다 사실 화가 정말 어떤 직업 그림 생계 잇는 어떤 의미 모르고 ...</td>\n",
       "      <td>20210227</td>\n",
       "      <td>brunch</td>\n",
       "      <td>작업,늑대,마우스패드,철학,기도,욕심,국경,눈물,그림책,관람객,미혼모,홈스쿨링,매번...</td>\n",
       "    </tr>\n",
       "  </tbody>\n",
       "</table>\n",
       "<p>78931 rows × 5 columns</p>\n",
       "</div>"
      ],
      "text/plain": [
       "       source                                            content  postdate  \\\n",
       "0      아르떼뮤지엄  강릉 여행 드라이브 코스 강원도 바다 강릉 아르떼뮤지엄 동생 함께 강원도 드라이브 ...  20220225   \n",
       "1      아르떼뮤지엄  #아르떼뮤지엄 #아르떼뮤지엄강릉 아르떼뮤지엄 강릉 다시 어가 강릉 여행기 제주 시작...  20220217   \n",
       "2      아르떼뮤지엄  안녕하세요 헤라 입니다 드디어 제주여행 이야기 끝나고 다녀온 가족여행 포스팅 있게 ...  20220228   \n",
       "3      아르떼뮤지엄  지난주 가족 제주여행 해안도로 산책 제주도 다녀왔어요 와중 제주 아르떼뮤지엄 맛집 ...  20220127   \n",
       "4      아르떼뮤지엄  안녕하세요 😄#국내여행 #아기랑여행 #아기랑국내여행목포에서 아침 먹이 숙소 오금 뒹...  20220312   \n",
       "...       ...                                                ...       ...   \n",
       "78926  김택화미술관  인정 많고 좋은 신흥리 김택화미술관 개관 했다 한라산 남긴 김택화 화백 작품 바탕 ...  20200805   \n",
       "78927  김택화미술관  어느덧 여행 마지막 되었다 조식 먹고 숙소 맡기고 나오는데 벌써 아쉬운 마음이 든다...  20210325   \n",
       "78928  김택화미술관  오늘 아가 생일 돌잔치 치렀고 남편 서울 있으니 잔치 분위기 없지만 하루 종일 뭉클...  20211124   \n",
       "78929  김택화미술관  세번 베케 트래블 테크 분야 뉴스 리핑 입니다 트립소 제주도 어디 가봤니 체결 계약...  20211119   \n",
       "78930  김택화미술관  우리 살때 화가 였다 사실 화가 정말 어떤 직업 그림 생계 잇는 어떤 의미 모르고 ...  20210227   \n",
       "\n",
       "      platform                                            keyword  \n",
       "0        naver  강릉시,즐거움,주차장,평창동계올림픽,자연,중앙시장,경험,청소년,음식,유명해서,디지털...  \n",
       "1        naver  주차장,관람객,함정,아르떼뮤지엄강릉,많은데,미디어,접근성,도시,정원,전시관,타이밍,...  \n",
       "2        naver  입장권,가족여행,바쁘,낭만,여친,정원,인기,블로그,보름달,노란색,체험,금요일,부지런...  \n",
       "3        naver  대만족,식당,멸치볶음,공간,제주공항,우정,중독,산책,메뉴판,영업,부모님,은빛,주차장...  \n",
       "4        naver  여수꽃돌게장1번가게장맛집이,음식,공룡,박람회,전기차,주차장,아기랑국내여행목포에서,볶...  \n",
       "...        ...                                                ...  \n",
       "78926   brunch  김택화,서울,비평가,학교,헌신,한국,신흥리,가구,스케치,귀하,쓰레기,공간,사이클링,...  \n",
       "78927   brunch  김택화,항쟁,서점,의존,인터뷰,테마파크,스케치,인터넷,버스,목재,거리,공간,역사,황...  \n",
       "78928   brunch  요구르트,고생,서울,존경,생일,수프,계란,소주,열정,없었던,고향,청귤,문화,샌드위치...  \n",
       "78929   brunch  론칭김택화,경쟁,가상세계,관광,다채롭,시장,투어,단독,콘텐츠,전략,창업,고객,백신,...  \n",
       "78930   brunch  작업,늑대,마우스패드,철학,기도,욕심,국경,눈물,그림책,관람객,미혼모,홈스쿨링,매번...  \n",
       "\n",
       "[78931 rows x 5 columns]"
      ]
     },
     "execution_count": 4,
     "metadata": {},
     "output_type": "execute_result"
    }
   ],
   "source": [
    "df = pd.read_parquet('append_keyword.parquet')\n",
    "df"
   ]
  },
  {
   "cell_type": "code",
   "execution_count": null,
   "id": "7fac2bb0",
   "metadata": {},
   "outputs": [],
   "source": []
  },
  {
   "cell_type": "code",
   "execution_count": 5,
   "id": "a0d1e7ea",
   "metadata": {},
   "outputs": [],
   "source": [
    "source = df['source'].unique()"
   ]
  },
  {
   "cell_type": "markdown",
   "id": "309d1111",
   "metadata": {},
   "source": [
    "# 관광지 별 불용어 제거 한 워드 카운팅"
   ]
  },
  {
   "cell_type": "code",
   "execution_count": 6,
   "id": "4d5ef806",
   "metadata": {
    "scrolled": true
   },
   "outputs": [],
   "source": [
    "key_dict={}\n",
    "for s in source:\n",
    "    key_list = []\n",
    "    remove_set = {'네이버','제주도','블로그','포스트','제주여행',\n",
    "                  '제주공항','제주도여행','대한민국','한국','제주','제주시'}\n",
    "    \n",
    "    for key in df[df['source']==s]['keyword']:\n",
    "        key_list.extend(key.split(','))\n",
    "    \n",
    "    \n",
    "    key_list = [k for k in key_list if k not in remove_set]    \n",
    "    \n",
    "    count = Counter(key_list)\n",
    "    \n",
    "    key_count = count.most_common(100)\n",
    "    \n",
    "    key_dict[s]= [w for w,n in key_count[:100]]\n",
    "    #print(s)"
   ]
  },
  {
   "cell_type": "code",
   "execution_count": 246,
   "id": "e13cc442",
   "metadata": {},
   "outputs": [],
   "source": [
    "li=['에코랜드 테마파크',\n",
    "'성산일출봉(UNESCO 세계자연유산)',\n",
    "'천아숲길 천아계곡',\n",
    "'종달리수국길',\n",
    "'녹산로유채꽃길']"
   ]
  },
  {
   "cell_type": "code",
   "execution_count": 319,
   "id": "5737148d",
   "metadata": {},
   "outputs": [],
   "source": [
    "candidate=[]\n",
    "for i in li:\n",
    "    candidate.extend(key_dict[i])\n",
    "\n",
    "# 중복 제거\n",
    "temp_set = set(candidate)\n",
    "# list로 재변환\n",
    "candidate =list(temp_set)"
   ]
  },
  {
   "cell_type": "code",
   "execution_count": 260,
   "id": "2113792c",
   "metadata": {},
   "outputs": [],
   "source": [
    "def preprocessing(content):\n",
    "    try:\n",
    "        result=''\n",
    "        tokenized_doc = okt.pos(content)\n",
    "        global stop_word\n",
    "        #print(tokenized_doc)\n",
    "        tokenized = ' '.join([w for w,t in tokenized_doc if  t not in ['Verb'] and w not in stop_word])\n",
    "        \n",
    "    except Exception as e:\n",
    "        print(e)\n",
    "        print(content)\n",
    "    return tokenized\n",
    "        "
   ]
  },
  {
   "cell_type": "code",
   "execution_count": 302,
   "id": "9d231378",
   "metadata": {},
   "outputs": [],
   "source": [
    "def association(source):\n",
    "    print(source)\n",
    "    s_re = re.sub('[^-가-힣0-9]',' ',source)\n",
    "    global stop_word\n",
    "    stop_word = ['있는','있고','있으니','입니다.','이렇게','있을','제주특별자치도',source,s_re.replace(' ','')]\n",
    "    stop_word.extend(s_re.split(' '))\n",
    "    \n",
    "    doc_list = list(df[df['source']==source]['content'].map(preprocessing))\n",
    "    \n",
    "    \n",
    "    \n",
    "    doc_embedding = model.encode(doc_list)\n",
    "    candidate_embeddings = model.encode(candidate)\n",
    "    print('글의 갯수:',len(doc_list))\n",
    "    \n",
    "    distances = cosine_similarity(doc_embedding,candidate_embeddings)\n",
    "    \n",
    "    # 행방향 평균\n",
    "    dis_mean = distances.mean(axis=0)\n",
    "    #print(len(dis_mean))\n",
    "    print(dis_mean.argsort()[-50:])\n",
    "    return [(candidate[index],dis_mean[index]) for index in dis_mean.argsort()[-50:]]"
   ]
  },
  {
   "cell_type": "code",
   "execution_count": 303,
   "id": "e490f98e",
   "metadata": {
    "scrolled": true
   },
   "outputs": [
    {
     "name": "stdout",
     "output_type": "stream",
     "text": [
      "에코랜드 테마파크\n",
      "글의 갯수: 423\n",
      "[267 123 273  14  12 183 163 151  79  59  65 228 230 168 165  99 144  81\n",
      "  21 187   3  52 279 174 133 103 251  35  19  60 227 193 219   5  46 152\n",
      " 149 274 221  40 292  36 241 252 203 141   8  38 129 283]\n"
     ]
    },
    {
     "data": {
      "text/plain": [
       "[('바람', 0.29702252),\n",
       " ('단풍', 0.29955834),\n",
       " ('향기', 0.30023658),\n",
       " ('벚꽃축제', 0.30073217),\n",
       " ('기차', 0.30170473),\n",
       " ('종달리전망대', 0.30238473),\n",
       " ('메밀꽃', 0.3033157),\n",
       " ('꽃길', 0.30361223),\n",
       " ('홍보', 0.30371207),\n",
       " ('구경', 0.3038986),\n",
       " ('한라산', 0.30511308),\n",
       " ('아름다운', 0.3077672),\n",
       " ('단풍놀이', 0.30883452),\n",
       " ('서귀포시', 0.3105855),\n",
       " ('안녕하세요', 0.3113098),\n",
       " ('열차', 0.3145622),\n",
       " ('입구', 0.31477),\n",
       " ('동백꽃', 0.31658083),\n",
       " ('월정리', 0.31692505),\n",
       " ('일본군', 0.32169715),\n",
       " ('공항', 0.32398972),\n",
       " ('성산일출봉', 0.32682523),\n",
       " ('한라산국립공원', 0.32905203),\n",
       " ('구매', 0.3315372),\n",
       " ('김녕', 0.33270144),\n",
       " ('아름다운길', 0.33272418),\n",
       " ('드라이브', 0.33423263),\n",
       " ('벚꽃', 0.33494598),\n",
       " ('디즈니랜드', 0.33598635),\n",
       " ('해녀', 0.34133455),\n",
       " ('매력', 0.34659514),\n",
       " ('영업', 0.347249),\n",
       " ('당근', 0.34914973),\n",
       " ('한라산둘레길', 0.35295865),\n",
       " ('천아숲길', 0.35975048),\n",
       " ('사려니숲길', 0.36040795),\n",
       " ('투어', 0.37207663),\n",
       " ('성산일출축제', 0.38027802),\n",
       " ('입장권', 0.39348993),\n",
       " ('제주세계자연유산센터', 0.3991514),\n",
       " ('서울', 0.39936346),\n",
       " ('버스정류장', 0.39955035),\n",
       " ('조천읍', 0.4114237),\n",
       " ('녹산로유채꽃도로', 0.4162572),\n",
       " ('제주유채꽃축제', 0.42012608),\n",
       " ('성산읍', 0.45885548),\n",
       " ('해안동', 0.49194613),\n",
       " ('인스타', 0.51092637),\n",
       " ('김녕굴', 0.5130154),\n",
       " ('김통정', 0.53376406)]"
      ]
     },
     "execution_count": 303,
     "metadata": {},
     "output_type": "execute_result"
    }
   ],
   "source": [
    "association(li[0])"
   ]
  },
  {
   "cell_type": "code",
   "execution_count": 268,
   "id": "8148c4ed",
   "metadata": {
    "scrolled": true
   },
   "outputs": [
    {
     "name": "stdout",
     "output_type": "stream",
     "text": [
      "성산일출봉(UNESCO 세계자연유산)\n",
      "글의 갯수: 438\n"
     ]
    },
    {
     "data": {
      "text/plain": [
       "[('해안도로', 0.32755962),\n",
       " ('바람', 0.32816747),\n",
       " ('도로', 0.32990208),\n",
       " ('홍보', 0.33031768),\n",
       " ('꽃길', 0.33064786),\n",
       " ('아름다운', 0.33120087),\n",
       " ('디즈니랜드', 0.33258778),\n",
       " ('풍차', 0.33328518),\n",
       " ('둘레길', 0.33432212),\n",
       " ('안녕하세요', 0.3343793),\n",
       " ('단풍놀이', 0.3360097),\n",
       " ('볼드윈', 0.3363423),\n",
       " ('구경', 0.33804977),\n",
       " ('벚꽃', 0.3388391),\n",
       " ('아름다운길', 0.3402092),\n",
       " ('단풍', 0.34351274),\n",
       " ('종달리전망대', 0.344953),\n",
       " ('입구', 0.34580734),\n",
       " ('동백꽃', 0.34757894),\n",
       " ('월정리', 0.34878692),\n",
       " ('일본군', 0.3515592),\n",
       " ('매력', 0.35322288),\n",
       " ('공항', 0.35419968),\n",
       " ('한라산', 0.35493264),\n",
       " ('서귀포시', 0.3549721),\n",
       " ('한라산국립공원', 0.35887897),\n",
       " ('김녕', 0.35948363),\n",
       " ('해녀', 0.36059543),\n",
       " ('구매', 0.36241612),\n",
       " ('드라이브', 0.36642885),\n",
       " ('영업', 0.3691998),\n",
       " ('당근', 0.37007478),\n",
       " ('성산일출봉', 0.3722879),\n",
       " ('사려니숲길', 0.384773),\n",
       " ('한라산둘레길', 0.39304167),\n",
       " ('천아숲길', 0.39469877),\n",
       " ('투어', 0.40310076),\n",
       " ('입장권', 0.4072963),\n",
       " ('성산일출축제', 0.4131713),\n",
       " ('서울', 0.42013752),\n",
       " ('버스정류장', 0.43143696),\n",
       " ('제주유채꽃축제', 0.43532187),\n",
       " ('녹산로유채꽃도로', 0.43950358),\n",
       " ('제주세계자연유산센터', 0.44209757),\n",
       " ('조천읍', 0.45271665),\n",
       " ('성산읍', 0.4946309),\n",
       " ('해안동', 0.52931005),\n",
       " ('김녕굴', 0.53810215),\n",
       " ('인스타', 0.5467802),\n",
       " ('김통정', 0.5662499)]"
      ]
     },
     "execution_count": 268,
     "metadata": {},
     "output_type": "execute_result"
    }
   ],
   "source": [
    "association(li[1])"
   ]
  },
  {
   "cell_type": "code",
   "execution_count": 269,
   "id": "d64df86d",
   "metadata": {
    "scrolled": true
   },
   "outputs": [
    {
     "name": "stdout",
     "output_type": "stream",
     "text": [
      "천아숲길 천아계곡\n",
      "글의 갯수: 458\n"
     ]
    },
    {
     "data": {
      "text/plain": [
       "[('해안도로', 0.29456204),\n",
       " ('족욕탕', 0.2949083),\n",
       " ('도로', 0.29852736),\n",
       " ('구경', 0.2985278),\n",
       " ('아름다운', 0.29904947),\n",
       " ('일본군', 0.2995405),\n",
       " ('바람', 0.29983842),\n",
       " ('종달고망난돌쉼터', 0.29989925),\n",
       " ('입구', 0.30095485),\n",
       " ('둘레길', 0.30141616),\n",
       " ('한라산', 0.30172133),\n",
       " ('메밀꽃', 0.30218196),\n",
       " ('벚꽃축제', 0.30333027),\n",
       " ('종달리전망대', 0.30375868),\n",
       " ('김녕', 0.30559453),\n",
       " ('단풍놀이', 0.30866593),\n",
       " ('단풍', 0.30890995),\n",
       " ('꽃길', 0.30897093),\n",
       " ('종달리해안도로', 0.31138432),\n",
       " ('동백꽃', 0.3143927),\n",
       " ('서귀포시', 0.31465152),\n",
       " ('공항', 0.31549096),\n",
       " ('월정리', 0.31714734),\n",
       " ('한라산국립공원', 0.32117105),\n",
       " ('구매', 0.3255672),\n",
       " ('드라이브', 0.32936192),\n",
       " ('벚꽃', 0.33041295),\n",
       " ('매력', 0.33352724),\n",
       " ('영업', 0.33589664),\n",
       " ('해녀', 0.33620206),\n",
       " ('성산일출봉', 0.34023502),\n",
       " ('아름다운길', 0.34099185),\n",
       " ('당근', 0.34730712),\n",
       " ('한라산둘레길', 0.35075122),\n",
       " ('투어', 0.36278883),\n",
       " ('서울', 0.36870992),\n",
       " ('입장권', 0.37258148),\n",
       " ('천아숲길', 0.38193196),\n",
       " ('성산일출축제', 0.3827394),\n",
       " ('사려니숲길', 0.3875337),\n",
       " ('제주세계자연유산센터', 0.38952306),\n",
       " ('버스정류장', 0.39504457),\n",
       " ('조천읍', 0.39635658),\n",
       " ('제주유채꽃축제', 0.42487064),\n",
       " ('녹산로유채꽃도로', 0.42866775),\n",
       " ('성산읍', 0.44408363),\n",
       " ('해안동', 0.4722589),\n",
       " ('김녕굴', 0.47963652),\n",
       " ('인스타', 0.49026558),\n",
       " ('김통정', 0.5099945)]"
      ]
     },
     "execution_count": 269,
     "metadata": {},
     "output_type": "execute_result"
    }
   ],
   "source": [
    "association(li[2])"
   ]
  },
  {
   "cell_type": "code",
   "execution_count": 270,
   "id": "6d03a070",
   "metadata": {
    "scrolled": true
   },
   "outputs": [
    {
     "name": "stdout",
     "output_type": "stream",
     "text": [
      "종달리수국길\n",
      "글의 갯수: 531\n"
     ]
    },
    {
     "data": {
      "text/plain": [
       "[('유채꽃길', 0.27195048),\n",
       " ('유채', 0.2743132),\n",
       " ('종달리해안도로', 0.2752686),\n",
       " ('입구', 0.27809164),\n",
       " ('홍보', 0.27828935),\n",
       " ('디즈니랜드', 0.2796811),\n",
       " ('유채꽃', 0.28003687),\n",
       " ('서귀포시', 0.28078225),\n",
       " ('구경', 0.28190038),\n",
       " ('언니', 0.2839745),\n",
       " ('아름다', 0.28486288),\n",
       " ('공항', 0.2859673),\n",
       " ('안녕하세요', 0.2905675),\n",
       " ('성산일출봉', 0.29133376),\n",
       " ('벚꽃축제', 0.29191417),\n",
       " ('꽃길', 0.29237473),\n",
       " ('한라산국립공원', 0.2989026),\n",
       " ('향기', 0.29906255),\n",
       " ('월정리', 0.2994298),\n",
       " ('족욕탕', 0.29962254),\n",
       " ('드라이브', 0.3007126),\n",
       " ('일본군', 0.3007142),\n",
       " ('아름다운', 0.30117497),\n",
       " ('메밀꽃', 0.30549148),\n",
       " ('구매', 0.30615667),\n",
       " ('동백꽃', 0.30750835),\n",
       " ('김녕', 0.31090102),\n",
       " ('한라산둘레길', 0.3128201),\n",
       " ('영업', 0.31972852),\n",
       " ('천아숲길', 0.3236965),\n",
       " ('아름다운길', 0.3260342),\n",
       " ('벚꽃', 0.32826102),\n",
       " ('사려니숲길', 0.3304252),\n",
       " ('투어', 0.33457264),\n",
       " ('당근', 0.337582),\n",
       " ('해녀', 0.3456647),\n",
       " ('매력', 0.34963986),\n",
       " ('성산일출축제', 0.35408762),\n",
       " ('입장권', 0.35626587),\n",
       " ('제주세계자연유산센터', 0.36288655),\n",
       " ('버스정류장', 0.3667963),\n",
       " ('서울', 0.37401795),\n",
       " ('조천읍', 0.37636974),\n",
       " ('녹산로유채꽃도로', 0.39269644),\n",
       " ('제주유채꽃축제', 0.41014063),\n",
       " ('성산읍', 0.42842558),\n",
       " ('해안동', 0.45538297),\n",
       " ('인스타', 0.4696354),\n",
       " ('김녕굴', 0.4882293),\n",
       " ('김통정', 0.507024)]"
      ]
     },
     "execution_count": 270,
     "metadata": {},
     "output_type": "execute_result"
    }
   ],
   "source": [
    "association(li[3])"
   ]
  },
  {
   "cell_type": "code",
   "execution_count": 271,
   "id": "aab18cb4",
   "metadata": {
    "scrolled": true
   },
   "outputs": [
    {
     "name": "stdout",
     "output_type": "stream",
     "text": [
      "녹산로유채꽃길\n",
      "글의 갯수: 477\n"
     ]
    },
    {
     "data": {
      "text/plain": [
       "[('종달리전망대', 0.26492646),\n",
       " ('공항', 0.27257517),\n",
       " ('아름다', 0.27299765),\n",
       " ('서귀포시', 0.27314958),\n",
       " ('종달리해안도로', 0.27336347),\n",
       " ('일본군', 0.2738973),\n",
       " ('구경', 0.2771643),\n",
       " ('아름다운', 0.27765024),\n",
       " ('김녕', 0.27822372),\n",
       " ('드라이브', 0.2789085),\n",
       " ('디즈니랜드', 0.28003863),\n",
       " ('유채', 0.28301564),\n",
       " ('단풍놀이', 0.28320342),\n",
       " ('족욕탕', 0.28425303),\n",
       " ('홍보', 0.28786704),\n",
       " ('한라산둘레길', 0.2879684),\n",
       " ('향기', 0.2894846),\n",
       " ('한라산국립공원', 0.28973663),\n",
       " ('구매', 0.29190308),\n",
       " ('꽃들이', 0.30119047),\n",
       " ('유채꽃', 0.3052089),\n",
       " ('월정리', 0.30598792),\n",
       " ('유채꽃길', 0.3080555),\n",
       " ('성산일출봉', 0.30807626),\n",
       " ('영업', 0.31103685),\n",
       " ('해녀', 0.31350532),\n",
       " ('아름다운길', 0.31718877),\n",
       " ('꽃길', 0.3173474),\n",
       " ('메밀꽃', 0.31817728),\n",
       " ('동백꽃', 0.32236427),\n",
       " ('매력', 0.32356083),\n",
       " ('투어', 0.3251095),\n",
       " ('당근', 0.3275687),\n",
       " ('천아숲길', 0.32897213),\n",
       " ('사려니숲길', 0.33611527),\n",
       " ('버스정류장', 0.3389433),\n",
       " ('벚꽃축제', 0.34239134),\n",
       " ('입장권', 0.34341565),\n",
       " ('조천읍', 0.3461262),\n",
       " ('벚꽃', 0.3464052),\n",
       " ('제주세계자연유산센터', 0.35701364),\n",
       " ('서울', 0.3637249),\n",
       " ('성산일출축제', 0.37745315),\n",
       " ('성산읍', 0.40299347),\n",
       " ('녹산로유채꽃도로', 0.40667102),\n",
       " ('해안동', 0.41529077),\n",
       " ('인스타', 0.4395502),\n",
       " ('김녕굴', 0.44428697),\n",
       " ('제주유채꽃축제', 0.4460111),\n",
       " ('김통정', 0.46748543)]"
      ]
     },
     "execution_count": 271,
     "metadata": {},
     "output_type": "execute_result"
    }
   ],
   "source": [
    "association(li[4])"
   ]
  },
  {
   "cell_type": "code",
   "execution_count": 305,
   "id": "1c80a14e",
   "metadata": {
    "scrolled": true
   },
   "outputs": [
    {
     "name": "stdout",
     "output_type": "stream",
     "text": [
      "글의 갯수: 423\n",
      "[267 123 273  14  12 183 163 151  79  59  65 228 230 168 165  99 144  81\n",
      "  21 187   3  52 279 174 133 103 251  35  19  60 227 193 219   5  46 152\n",
      " 149 274 221  40 292  36 241 252 203 141   8  38 129 283]\n"
     ]
    },
    {
     "data": {
      "text/plain": [
       "[('바람', 0.29702252),\n",
       " ('단풍', 0.29955834),\n",
       " ('향기', 0.30023658),\n",
       " ('벚꽃축제', 0.30073217),\n",
       " ('기차', 0.30170473),\n",
       " ('종달리전망대', 0.30238473),\n",
       " ('메밀꽃', 0.3033157),\n",
       " ('꽃길', 0.30361223),\n",
       " ('홍보', 0.30371207),\n",
       " ('구경', 0.3038986),\n",
       " ('한라산', 0.30511308),\n",
       " ('아름다운', 0.3077672),\n",
       " ('단풍놀이', 0.30883452),\n",
       " ('서귀포시', 0.3105855),\n",
       " ('안녕하세요', 0.3113098),\n",
       " ('열차', 0.3145622),\n",
       " ('입구', 0.31477),\n",
       " ('동백꽃', 0.31658083),\n",
       " ('월정리', 0.31692505),\n",
       " ('일본군', 0.32169715),\n",
       " ('공항', 0.32398972),\n",
       " ('성산일출봉', 0.32682523),\n",
       " ('한라산국립공원', 0.32905203),\n",
       " ('구매', 0.3315372),\n",
       " ('김녕', 0.33270144),\n",
       " ('아름다운길', 0.33272418),\n",
       " ('드라이브', 0.33423263),\n",
       " ('벚꽃', 0.33494598),\n",
       " ('디즈니랜드', 0.33598635),\n",
       " ('해녀', 0.34133455),\n",
       " ('매력', 0.34659514),\n",
       " ('영업', 0.347249),\n",
       " ('당근', 0.34914973),\n",
       " ('한라산둘레길', 0.35295865),\n",
       " ('천아숲길', 0.35975048),\n",
       " ('사려니숲길', 0.36040795),\n",
       " ('투어', 0.37207663),\n",
       " ('성산일출축제', 0.38027802),\n",
       " ('입장권', 0.39348993),\n",
       " ('제주세계자연유산센터', 0.3991514),\n",
       " ('서울', 0.39936346),\n",
       " ('버스정류장', 0.39955035),\n",
       " ('조천읍', 0.4114237),\n",
       " ('녹산로유채꽃도로', 0.4162572),\n",
       " ('제주유채꽃축제', 0.42012608),\n",
       " ('성산읍', 0.45885548),\n",
       " ('해안동', 0.49194613),\n",
       " ('인스타', 0.51092637),\n",
       " ('김녕굴', 0.5130154),\n",
       " ('김통정', 0.53376406)]"
      ]
     },
     "execution_count": 305,
     "metadata": {},
     "output_type": "execute_result"
    }
   ],
   "source": [
    "\n",
    "tour = li[0]\n",
    "tour_re = re.sub('[^-가-힣0-9]',' ',tour)\n",
    "stop_word = ['있는','있고','있으니','입니다.','이렇게','있을','제주특별자치도',tour,tour_re.replace(' ','')]\n",
    "stop_word.extend(tour_re.split(' '))\n",
    "\n",
    "doc_list = list(df[df['source']==tour]['content'].map(preprocessing))\n",
    "\n",
    "\n",
    "\n",
    "doc_embedding = model.encode(doc_list)\n",
    "candidate_embeddings = model.encode(candidate)\n",
    "print('글의 갯수:',len(doc_list))\n",
    "\n",
    "distances = cosine_similarity(doc_embedding,candidate_embeddings)\n",
    "\n",
    "# 행방향 평균\n",
    "dis_mean = distances.mean(axis=0)\n",
    "#print(len(dis_mean))\n",
    "print(dis_mean.argsort()[-50:])\n",
    "[(candidate[index],dis_mean[index]) for index in dis_mean.argsort()[-50:]]"
   ]
  },
  {
   "cell_type": "code",
   "execution_count": 353,
   "id": "3e3b045a",
   "metadata": {},
   "outputs": [],
   "source": [
    "doc_embedding2 = model.encode([doc_list[0]])\n",
    "candidate_embeddings2 = model.encode(['성산일출축제','김녕굴','인스타','제주유채꽃축제','버스정류장','김통정'])\n",
    "candidate2=['김통정','김녕굴','인스타','제주유채꽃축제','버스정류장','성산일출축제']\n",
    "distances2 = cosine_similarity(doc_embedding2,candidate_embeddings2)"
   ]
  },
  {
   "cell_type": "code",
   "execution_count": 354,
   "id": "513cc042",
   "metadata": {
    "scrolled": true
   },
   "outputs": [
    {
     "data": {
      "text/plain": [
       "array([[0.34068203, 0.6497669 , 0.5991863 , 0.4209882 , 0.44660547,\n",
       "        0.6937244 ]], dtype=float32)"
      ]
     },
     "execution_count": 354,
     "metadata": {},
     "output_type": "execute_result"
    }
   ],
   "source": [
    "distances2"
   ]
  },
  {
   "cell_type": "code",
   "execution_count": 357,
   "id": "e673d11d",
   "metadata": {
    "scrolled": true
   },
   "outputs": [
    {
     "data": {
      "text/plain": [
       "768"
      ]
     },
     "execution_count": 357,
     "metadata": {},
     "output_type": "execute_result"
    }
   ],
   "source": [
    "len(candidate_embeddings2[0])"
   ]
  },
  {
   "cell_type": "markdown",
   "id": "3eb13728",
   "metadata": {},
   "source": [
    "# word2vec 연관 분석\n",
    "1. 각 관광지의 문서 불용어 전처리 진행\n",
    "2. 각 문서에 존재하는 단어들의 벡터값의 평균을 구하여 해당 문서의 벡터값을 연산\n",
    " (단어 벡터를 모두 더한 값을 문서 길이로 나눔)\n",
    "3. 원하는 키워드를 입력으로 넣으면 키워드로 이루어진 하나의 문장을 만듦\n",
    "4. 해당 문장과 유사한 문서 벡터값을 가진 관광지를 추천해줌.\n",
    "5. 참고(https://wikidocs.net/102705)"
   ]
  },
  {
   "cell_type": "code",
   "execution_count": 12,
   "id": "9e09aab0",
   "metadata": {},
   "outputs": [],
   "source": [
    "from gensim.models import Word2Vec\n",
    "from gensim.models import KeyedVectors\n",
    "from tqdm.notebook import tqdm\n",
    "import pandas as pd"
   ]
  },
  {
   "cell_type": "code",
   "execution_count": 2,
   "id": "ee08c008",
   "metadata": {},
   "outputs": [],
   "source": [
    "def tokenizedOkt(sentences):\n",
    "    okt = Okt()\n",
    "    total_tokenized_list = []\n",
    "    # 해당 관광지에 관한 content들 토큰화\n",
    "    tqdmDf = tqdm(sentences)\n",
    "    count = 0\n",
    "    \n",
    "    for tourInfo in tqdmDf:\n",
    "        tqdmDf.set_description(f'Processing tokenized')\n",
    "        stop_word = ['있는','있고','있으니','입니다.','이렇게','있을', df['source'][count], df['source'][count].replace(' ',''),'네이버','제주도','블로그','포스트','제주여행',\n",
    "                  '제주공항','제주도여행','대한민국','한국','제주','제주시']\n",
    "        tokenized_doc = okt.pos(tourInfo)\n",
    "        tokenized_list = [w for w,t in tokenized_doc if t not in ['Verb'] and w not in stop_word]\n",
    "        total_tokenized_list.append(tokenized_list)\n",
    "        count+=1\n",
    "        #if count % 10000 == 0:\n",
    "            #pd.DataFrame(data=total_tokenized_list).to_csv('tok.csv')\n",
    "            \n",
    "        \n",
    "    return total_tokenized_list"
   ]
  },
  {
   "cell_type": "code",
   "execution_count": 4,
   "id": "3768c352",
   "metadata": {
    "scrolled": true
   },
   "outputs": [
    {
     "ename": "NameError",
     "evalue": "name 'tokjson_data' is not defined",
     "output_type": "error",
     "traceback": [
      "\u001b[1;31m---------------------------------------------------------------------------\u001b[0m",
      "\u001b[1;31mNameError\u001b[0m                                 Traceback (most recent call last)",
      "\u001b[1;32m~\\AppData\\Local\\Temp/ipykernel_13160/2366369285.py\u001b[0m in \u001b[0;36m<module>\u001b[1;34m\u001b[0m\n\u001b[0;32m      6\u001b[0m     \u001b[0mjson_data\u001b[0m \u001b[1;33m=\u001b[0m \u001b[0mjson\u001b[0m\u001b[1;33m.\u001b[0m\u001b[0mload\u001b[0m\u001b[1;33m(\u001b[0m\u001b[0mf\u001b[0m\u001b[1;33m)\u001b[0m\u001b[1;33m\u001b[0m\u001b[1;33m\u001b[0m\u001b[0m\n\u001b[0;32m      7\u001b[0m \u001b[1;33m\u001b[0m\u001b[0m\n\u001b[1;32m----> 8\u001b[1;33m \u001b[0mtok_sentence\u001b[0m \u001b[1;33m=\u001b[0m\u001b[0mtokjson_data\u001b[0m\u001b[1;33m[\u001b[0m\u001b[1;34m'sentence'\u001b[0m\u001b[1;33m]\u001b[0m\u001b[1;33m\u001b[0m\u001b[1;33m\u001b[0m\u001b[0m\n\u001b[0m",
      "\u001b[1;31mNameError\u001b[0m: name 'tokjson_data' is not defined"
     ]
    }
   ],
   "source": [
    "#tok_sentence = tokenizedOkt(df['content'])\n",
    "\n",
    "import json\n",
    "with open('top100_tok_dic.json', 'r',encoding='UTF-8') as f:\n",
    "\n",
    "    json_data = json.load(f)\n",
    "\n",
    "tok_sentence =json_data['sentence']\n"
   ]
  },
  {
   "cell_type": "code",
   "execution_count": 5,
   "id": "fbd2a982",
   "metadata": {},
   "outputs": [],
   "source": [
    "tok_sentence =json_data['sentence']"
   ]
  },
  {
   "cell_type": "code",
   "execution_count": 7,
   "id": "34dc2583",
   "metadata": {},
   "outputs": [],
   "source": [
    "word2vec_model = KeyedVectors.load_word2vec_format(\"jeju_word2Vec_model\")"
   ]
  },
  {
   "cell_type": "code",
   "execution_count": 50,
   "id": "9159f238",
   "metadata": {},
   "outputs": [],
   "source": [
    "def keyword_recommend(keywords):\n",
    "    result_df.loc[len(test_df)] = ['input', keywords]\n",
    "    # 각 문서들의 벡터 리스트\n",
    "    document_embedding_list = []\n",
    "    # 각 문서에 대해서\n",
    "    for line in result_df['keyword']:\n",
    "        doc2vec = None\n",
    "        count = 0\n",
    "        for word in line.split():\n",
    "            if word in word2vec_model.wv.vocab:\n",
    "                count += 1\n",
    "                # 해당 문서에 있는 모든 단어들의 벡터값을 더한다.\n",
    "                if doc2vec is None:\n",
    "                    doc2vec = word2vec_model[word]\n",
    "                else:\n",
    "                    doc2vec = doc2vec + word2vec_model[word]\n",
    "        if doc2vec is not None:\n",
    "            # 단어 벡터를 모두 더한 벡터의 값을 문서 길이로 나눠준다.\n",
    "            doc2vec = doc2vec / count\n",
    "            document_embedding_list.append(doc2vec)\n",
    "    # 코사인 유사도 매트릭스 생성\n",
    "    cosine_similarities = cosine_similarity(document_embedding_list, document_embedding_list)\n",
    "    books = result_df['source']\n",
    "    # 해당 인풋의 인덱스 호출\n",
    "    indices = pd.Series(result_df.index, index = result_df['source']).drop_duplicates()\n",
    "    idx = indices['input']\n",
    "    # 입력된 키워드와 유사한 관광지 1개 추천\n",
    "    sim_scores = list(enumerate(cosine_similarities[idx]))\n",
    "    sim_scores = sorted(sim_scores, key = lambda x: x[1], reverse = True)\n",
    "    sim_scores = sim_scores[1:10]\n",
    "    book_indices = [i[0] for i in sim_scores]\n",
    "    # 전체 데이터 프레임에서 해당 행 추출\n",
    "    recommend = books.iloc[book_indices].reset_index()\n",
    "    return recommend"
   ]
  },
  {
   "cell_type": "code",
   "execution_count": 57,
   "id": "2be7c1e7",
   "metadata": {},
   "outputs": [
    {
     "name": "stderr",
     "output_type": "stream",
     "text": [
      "C:\\Users\\82104\\AppData\\Local\\Temp/ipykernel_13160/3172149673.py:10: DeprecationWarning: Call to deprecated `wv` (Attribute will be removed in 4.0.0, use self instead).\n",
      "  if word in word2vec_model.wv.vocab:\n"
     ]
    },
    {
     "data": {
      "text/html": [
       "<div>\n",
       "<style scoped>\n",
       "    .dataframe tbody tr th:only-of-type {\n",
       "        vertical-align: middle;\n",
       "    }\n",
       "\n",
       "    .dataframe tbody tr th {\n",
       "        vertical-align: top;\n",
       "    }\n",
       "\n",
       "    .dataframe thead th {\n",
       "        text-align: right;\n",
       "    }\n",
       "</style>\n",
       "<table border=\"1\" class=\"dataframe\">\n",
       "  <thead>\n",
       "    <tr style=\"text-align: right;\">\n",
       "      <th></th>\n",
       "      <th>index</th>\n",
       "      <th>source</th>\n",
       "    </tr>\n",
       "  </thead>\n",
       "  <tbody>\n",
       "    <tr>\n",
       "      <th>0</th>\n",
       "      <td>68</td>\n",
       "      <td>이호테우말등대</td>\n",
       "    </tr>\n",
       "    <tr>\n",
       "      <th>1</th>\n",
       "      <td>38</td>\n",
       "      <td>신창풍차해안도로</td>\n",
       "    </tr>\n",
       "    <tr>\n",
       "      <th>2</th>\n",
       "      <td>55</td>\n",
       "      <td>서우봉</td>\n",
       "    </tr>\n",
       "    <tr>\n",
       "      <th>3</th>\n",
       "      <td>53</td>\n",
       "      <td>노을해안로</td>\n",
       "    </tr>\n",
       "    <tr>\n",
       "      <th>4</th>\n",
       "      <td>52</td>\n",
       "      <td>금능해수욕장</td>\n",
       "    </tr>\n",
       "    <tr>\n",
       "      <th>5</th>\n",
       "      <td>31</td>\n",
       "      <td>광치기해변</td>\n",
       "    </tr>\n",
       "    <tr>\n",
       "      <th>6</th>\n",
       "      <td>88</td>\n",
       "      <td>애월한담해안산책로</td>\n",
       "    </tr>\n",
       "    <tr>\n",
       "      <th>7</th>\n",
       "      <td>51</td>\n",
       "      <td>닭머르해안길</td>\n",
       "    </tr>\n",
       "    <tr>\n",
       "      <th>8</th>\n",
       "      <td>36</td>\n",
       "      <td>비양도</td>\n",
       "    </tr>\n",
       "  </tbody>\n",
       "</table>\n",
       "</div>"
      ],
      "text/plain": [
       "   index     source\n",
       "0     68    이호테우말등대\n",
       "1     38   신창풍차해안도로\n",
       "2     55        서우봉\n",
       "3     53      노을해안로\n",
       "4     52     금능해수욕장\n",
       "5     31      광치기해변\n",
       "6     88  애월한담해안산책로\n",
       "7     51     닭머르해안길\n",
       "8     36        비양도"
      ]
     },
     "execution_count": 57,
     "metadata": {},
     "output_type": "execute_result"
    }
   ],
   "source": [
    "keyword_recommend('바다 서쪽 해녀')"
   ]
  },
  {
   "cell_type": "code",
   "execution_count": 58,
   "id": "fbd06d16",
   "metadata": {},
   "outputs": [
    {
     "data": {
      "text/html": [
       "<div>\n",
       "<style scoped>\n",
       "    .dataframe tbody tr th:only-of-type {\n",
       "        vertical-align: middle;\n",
       "    }\n",
       "\n",
       "    .dataframe tbody tr th {\n",
       "        vertical-align: top;\n",
       "    }\n",
       "\n",
       "    .dataframe thead th {\n",
       "        text-align: right;\n",
       "    }\n",
       "</style>\n",
       "<table border=\"1\" class=\"dataframe\">\n",
       "  <thead>\n",
       "    <tr style=\"text-align: right;\">\n",
       "      <th></th>\n",
       "      <th>source</th>\n",
       "      <th>keyword</th>\n",
       "    </tr>\n",
       "  </thead>\n",
       "  <tbody>\n",
       "    <tr>\n",
       "      <th>0</th>\n",
       "      <td>아르떼뮤지엄</td>\n",
       "      <td>미디어아트 미디어 전시관 강릉시 토끼 경험 입장권 거울 음악 박람회 트릭 색칠 영상...</td>\n",
       "    </tr>\n",
       "    <tr>\n",
       "      <th>1</th>\n",
       "      <td>산방산</td>\n",
       "      <td>유채꽃 용머리해안 바람 사진 거리 식당 용머리 음식 계획 기도 영업 자연 가격 디저...</td>\n",
       "    </tr>\n",
       "    <tr>\n",
       "      <th>2</th>\n",
       "      <td>함덕해수욕장</td>\n",
       "      <td>해수욕장 식당 바람 산책 해변 음식 거리 사진 여름 가족 고기 기도 영업 맛집 흑돼...</td>\n",
       "    </tr>\n",
       "    <tr>\n",
       "      <th>3</th>\n",
       "      <td>사계해변</td>\n",
       "      <td>산방산 사진 바람 해변 용머리해안 자연 인스타 식당 거리 시간 계획 송악산 디저트 ...</td>\n",
       "    </tr>\n",
       "    <tr>\n",
       "      <th>4</th>\n",
       "      <td>섭지코지</td>\n",
       "      <td>성산읍 성산일출봉 바람 유채꽃 거리 산책 식당 자연 음식 동쪽 사진 성리 드라마 겨...</td>\n",
       "    </tr>\n",
       "    <tr>\n",
       "      <th>...</th>\n",
       "      <td>...</td>\n",
       "      <td>...</td>\n",
       "    </tr>\n",
       "    <tr>\n",
       "      <th>96</th>\n",
       "      <td>녹산로유채꽃길</td>\n",
       "      <td>벚꽃 유채꽃길 축제 유채꽃 조랑말체험공원 노란 프라자 사진 거리 계획 바람 관광객 ...</td>\n",
       "    </tr>\n",
       "    <tr>\n",
       "      <th>97</th>\n",
       "      <td>스누피가든</td>\n",
       "      <td>정원 기념품 만화 캐릭터 찰리 산책 사진 거리 겨울 자연 계획 관광지 여름 체험 야...</td>\n",
       "    </tr>\n",
       "    <tr>\n",
       "      <th>98</th>\n",
       "      <td>제주센트럴파크</td>\n",
       "      <td>센트럴파크 한세상 거리 계획 인천 세대 인천광역시 산책 시장 사업 경쟁률 디저트 분...</td>\n",
       "    </tr>\n",
       "    <tr>\n",
       "      <th>99</th>\n",
       "      <td>김택화미술관</td>\n",
       "      <td>김택화 신흥로 커피 미술관 동영상 신흥리 사진 전시 자연 조천읍 인스타그램 소주 디...</td>\n",
       "    </tr>\n",
       "    <tr>\n",
       "      <th>100</th>\n",
       "      <td>input</td>\n",
       "      <td>바다 서쪽 해녀</td>\n",
       "    </tr>\n",
       "  </tbody>\n",
       "</table>\n",
       "<p>101 rows × 2 columns</p>\n",
       "</div>"
      ],
      "text/plain": [
       "      source                                            keyword\n",
       "0     아르떼뮤지엄  미디어아트 미디어 전시관 강릉시 토끼 경험 입장권 거울 음악 박람회 트릭 색칠 영상...\n",
       "1        산방산  유채꽃 용머리해안 바람 사진 거리 식당 용머리 음식 계획 기도 영업 자연 가격 디저...\n",
       "2     함덕해수욕장  해수욕장 식당 바람 산책 해변 음식 거리 사진 여름 가족 고기 기도 영업 맛집 흑돼...\n",
       "3       사계해변  산방산 사진 바람 해변 용머리해안 자연 인스타 식당 거리 시간 계획 송악산 디저트 ...\n",
       "4       섭지코지  성산읍 성산일출봉 바람 유채꽃 거리 산책 식당 자연 음식 동쪽 사진 성리 드라마 겨...\n",
       "..       ...                                                ...\n",
       "96   녹산로유채꽃길  벚꽃 유채꽃길 축제 유채꽃 조랑말체험공원 노란 프라자 사진 거리 계획 바람 관광객 ...\n",
       "97     스누피가든  정원 기념품 만화 캐릭터 찰리 산책 사진 거리 겨울 자연 계획 관광지 여름 체험 야...\n",
       "98   제주센트럴파크  센트럴파크 한세상 거리 계획 인천 세대 인천광역시 산책 시장 사업 경쟁률 디저트 분...\n",
       "99    김택화미술관  김택화 신흥로 커피 미술관 동영상 신흥리 사진 전시 자연 조천읍 인스타그램 소주 디...\n",
       "100    input                                           바다 서쪽 해녀\n",
       "\n",
       "[101 rows x 2 columns]"
      ]
     },
     "execution_count": 58,
     "metadata": {},
     "output_type": "execute_result"
    }
   ],
   "source": [
    "result_df"
   ]
  },
  {
   "cell_type": "code",
   "execution_count": 55,
   "id": "3a40e5d0",
   "metadata": {},
   "outputs": [
    {
     "data": {
      "text/html": [
       "<div>\n",
       "<style scoped>\n",
       "    .dataframe tbody tr th:only-of-type {\n",
       "        vertical-align: middle;\n",
       "    }\n",
       "\n",
       "    .dataframe tbody tr th {\n",
       "        vertical-align: top;\n",
       "    }\n",
       "\n",
       "    .dataframe thead th {\n",
       "        text-align: right;\n",
       "    }\n",
       "</style>\n",
       "<table border=\"1\" class=\"dataframe\">\n",
       "  <thead>\n",
       "    <tr style=\"text-align: right;\">\n",
       "      <th></th>\n",
       "      <th>source</th>\n",
       "      <th>keyword</th>\n",
       "    </tr>\n",
       "  </thead>\n",
       "  <tbody>\n",
       "    <tr>\n",
       "      <th>0</th>\n",
       "      <td>아르떼뮤지엄</td>\n",
       "      <td>미디어아트 미디어 전시관 강릉시 토끼 경험 입장권 거울 음악 박람회 트릭 색칠 영상...</td>\n",
       "    </tr>\n",
       "    <tr>\n",
       "      <th>1</th>\n",
       "      <td>산방산</td>\n",
       "      <td>유채꽃 용머리해안 바람 사진 거리 식당 용머리 음식 계획 기도 영업 자연 가격 디저...</td>\n",
       "    </tr>\n",
       "    <tr>\n",
       "      <th>2</th>\n",
       "      <td>함덕해수욕장</td>\n",
       "      <td>해수욕장 식당 바람 산책 해변 음식 거리 사진 여름 가족 고기 기도 영업 맛집 흑돼...</td>\n",
       "    </tr>\n",
       "    <tr>\n",
       "      <th>3</th>\n",
       "      <td>사계해변</td>\n",
       "      <td>산방산 사진 바람 해변 용머리해안 자연 인스타 식당 거리 시간 계획 송악산 디저트 ...</td>\n",
       "    </tr>\n",
       "    <tr>\n",
       "      <th>4</th>\n",
       "      <td>섭지코지</td>\n",
       "      <td>성산읍 성산일출봉 바람 유채꽃 거리 산책 식당 자연 음식 동쪽 사진 성리 드라마 겨...</td>\n",
       "    </tr>\n",
       "    <tr>\n",
       "      <th>...</th>\n",
       "      <td>...</td>\n",
       "      <td>...</td>\n",
       "    </tr>\n",
       "    <tr>\n",
       "      <th>95</th>\n",
       "      <td>종달리수국길</td>\n",
       "      <td>사진 종달리해안도로 성산일출봉 동쪽 산책 계획 바람 바다 기도 식당 여름 자연 거리...</td>\n",
       "    </tr>\n",
       "    <tr>\n",
       "      <th>96</th>\n",
       "      <td>녹산로유채꽃길</td>\n",
       "      <td>벚꽃 유채꽃길 축제 유채꽃 조랑말체험공원 노란 프라자 사진 거리 계획 바람 관광객 ...</td>\n",
       "    </tr>\n",
       "    <tr>\n",
       "      <th>97</th>\n",
       "      <td>스누피가든</td>\n",
       "      <td>정원 기념품 만화 캐릭터 찰리 산책 사진 거리 겨울 자연 계획 관광지 여름 체험 야...</td>\n",
       "    </tr>\n",
       "    <tr>\n",
       "      <th>98</th>\n",
       "      <td>제주센트럴파크</td>\n",
       "      <td>센트럴파크 한세상 거리 계획 인천 세대 인천광역시 산책 시장 사업 경쟁률 디저트 분...</td>\n",
       "    </tr>\n",
       "    <tr>\n",
       "      <th>99</th>\n",
       "      <td>김택화미술관</td>\n",
       "      <td>김택화 신흥로 커피 미술관 동영상 신흥리 사진 전시 자연 조천읍 인스타그램 소주 디...</td>\n",
       "    </tr>\n",
       "  </tbody>\n",
       "</table>\n",
       "<p>100 rows × 2 columns</p>\n",
       "</div>"
      ],
      "text/plain": [
       "     source                                            keyword\n",
       "0    아르떼뮤지엄  미디어아트 미디어 전시관 강릉시 토끼 경험 입장권 거울 음악 박람회 트릭 색칠 영상...\n",
       "1       산방산  유채꽃 용머리해안 바람 사진 거리 식당 용머리 음식 계획 기도 영업 자연 가격 디저...\n",
       "2    함덕해수욕장  해수욕장 식당 바람 산책 해변 음식 거리 사진 여름 가족 고기 기도 영업 맛집 흑돼...\n",
       "3      사계해변  산방산 사진 바람 해변 용머리해안 자연 인스타 식당 거리 시간 계획 송악산 디저트 ...\n",
       "4      섭지코지  성산읍 성산일출봉 바람 유채꽃 거리 산책 식당 자연 음식 동쪽 사진 성리 드라마 겨...\n",
       "..      ...                                                ...\n",
       "95   종달리수국길  사진 종달리해안도로 성산일출봉 동쪽 산책 계획 바람 바다 기도 식당 여름 자연 거리...\n",
       "96  녹산로유채꽃길  벚꽃 유채꽃길 축제 유채꽃 조랑말체험공원 노란 프라자 사진 거리 계획 바람 관광객 ...\n",
       "97    스누피가든  정원 기념품 만화 캐릭터 찰리 산책 사진 거리 겨울 자연 계획 관광지 여름 체험 야...\n",
       "98  제주센트럴파크  센트럴파크 한세상 거리 계획 인천 세대 인천광역시 산책 시장 사업 경쟁률 디저트 분...\n",
       "99   김택화미술관  김택화 신흥로 커피 미술관 동영상 신흥리 사진 전시 자연 조천읍 인스타그램 소주 디...\n",
       "\n",
       "[100 rows x 2 columns]"
      ]
     },
     "execution_count": 55,
     "metadata": {},
     "output_type": "execute_result"
    }
   ],
   "source": [
    "result_df =pd.read_parquet('top100_keyword.parquet')\n",
    "result_df"
   ]
  },
  {
   "cell_type": "code",
   "execution_count": null,
   "id": "3f79f2b2",
   "metadata": {},
   "outputs": [],
   "source": [
    "result_df"
   ]
  },
  {
   "cell_type": "code",
   "execution_count": 18,
   "id": "0785feba",
   "metadata": {},
   "outputs": [],
   "source": [
    "test_df= result_df.copy()"
   ]
  },
  {
   "cell_type": "code",
   "execution_count": 390,
   "id": "4f00ce16",
   "metadata": {},
   "outputs": [],
   "source": [
    "def preprocessing(text):\n",
    "    result = ' '.join(text)\n",
    "    return result"
   ]
  },
  {
   "cell_type": "code",
   "execution_count": null,
   "id": "f99959cd",
   "metadata": {},
   "outputs": [],
   "source": [
    "test_df['keyword']=test_df.keyword.map(preprocessing)"
   ]
  },
  {
   "cell_type": "code",
   "execution_count": 391,
   "id": "98c1b427",
   "metadata": {},
   "outputs": [
    {
     "data": {
      "text/html": [
       "<div>\n",
       "<style scoped>\n",
       "    .dataframe tbody tr th:only-of-type {\n",
       "        vertical-align: middle;\n",
       "    }\n",
       "\n",
       "    .dataframe tbody tr th {\n",
       "        vertical-align: top;\n",
       "    }\n",
       "\n",
       "    .dataframe thead th {\n",
       "        text-align: right;\n",
       "    }\n",
       "</style>\n",
       "<table border=\"1\" class=\"dataframe\">\n",
       "  <thead>\n",
       "    <tr style=\"text-align: right;\">\n",
       "      <th></th>\n",
       "      <th>source</th>\n",
       "      <th>keyword</th>\n",
       "    </tr>\n",
       "  </thead>\n",
       "  <tbody>\n",
       "    <tr>\n",
       "      <th>0</th>\n",
       "      <td>아르떼뮤지엄</td>\n",
       "      <td>공간 미디어아트 여행 미디어 강릉 전시관 강릉시 토끼 경험 입장권 거울 음악 박람회...</td>\n",
       "    </tr>\n",
       "    <tr>\n",
       "      <th>1</th>\n",
       "      <td>산방산</td>\n",
       "      <td>메뉴 유채꽃 여행 공간 용머리해안 주차장 바람 사진 거리 식당 용머리 음식 계획 판...</td>\n",
       "    </tr>\n",
       "    <tr>\n",
       "      <th>2</th>\n",
       "      <td>함덕해수욕장</td>\n",
       "      <td>여행 메뉴 해수욕장 식당 공간 바람 산책 주차장 해변 음식 거리 사진 여름 가족 고...</td>\n",
       "    </tr>\n",
       "    <tr>\n",
       "      <th>3</th>\n",
       "      <td>사계해변</td>\n",
       "      <td>산방산 여행 사진 바람 메뉴 해변 공간 주차장 용머리해안 자연 인스타 안녕하세요 검...</td>\n",
       "    </tr>\n",
       "    <tr>\n",
       "      <th>4</th>\n",
       "      <td>섭지코지</td>\n",
       "      <td>성산읍 성산일출봉 여행 바람 주차장 메뉴 유채꽃 공간 거리 산책 식당 자연 음식 동...</td>\n",
       "    </tr>\n",
       "    <tr>\n",
       "      <th>...</th>\n",
       "      <td>...</td>\n",
       "      <td>...</td>\n",
       "    </tr>\n",
       "    <tr>\n",
       "      <th>95</th>\n",
       "      <td>종달리수국길</td>\n",
       "      <td>여행 사진 종달리해안도로 성산일출봉 동쪽 공간 산책 계획 검색 바람 바다 기도 주차...</td>\n",
       "    </tr>\n",
       "    <tr>\n",
       "      <th>96</th>\n",
       "      <td>녹산로유채꽃길</td>\n",
       "      <td>벚꽃 유채꽃길 축제 유채꽃 여행 조랑말체험공원 노란 프라자 사진 거리 계획 바람 관...</td>\n",
       "    </tr>\n",
       "    <tr>\n",
       "      <th>97</th>\n",
       "      <td>스누피가든</td>\n",
       "      <td>공간 정원 기념품 만화 여행 주차장 캐릭터 찰리 산책 사진 거리 겨울 자연 계획 판...</td>\n",
       "    </tr>\n",
       "    <tr>\n",
       "      <th>98</th>\n",
       "      <td>제주센트럴파크</td>\n",
       "      <td>센트럴파크 서울 공간 메뉴 안녕하세요 한세상 거리 계획 인천 세대 인천광역시 여행 ...</td>\n",
       "    </tr>\n",
       "    <tr>\n",
       "      <th>99</th>\n",
       "      <td>김택화미술관</td>\n",
       "      <td>김택화 공간 신흥로 커피 미술관 안녕하세요 동영상 신흥리 메뉴 사진 여행 서울 전시...</td>\n",
       "    </tr>\n",
       "  </tbody>\n",
       "</table>\n",
       "<p>100 rows × 2 columns</p>\n",
       "</div>"
      ],
      "text/plain": [
       "     source                                            keyword\n",
       "0    아르떼뮤지엄  공간 미디어아트 여행 미디어 강릉 전시관 강릉시 토끼 경험 입장권 거울 음악 박람회...\n",
       "1       산방산  메뉴 유채꽃 여행 공간 용머리해안 주차장 바람 사진 거리 식당 용머리 음식 계획 판...\n",
       "2    함덕해수욕장  여행 메뉴 해수욕장 식당 공간 바람 산책 주차장 해변 음식 거리 사진 여름 가족 고...\n",
       "3      사계해변  산방산 여행 사진 바람 메뉴 해변 공간 주차장 용머리해안 자연 인스타 안녕하세요 검...\n",
       "4      섭지코지  성산읍 성산일출봉 여행 바람 주차장 메뉴 유채꽃 공간 거리 산책 식당 자연 음식 동...\n",
       "..      ...                                                ...\n",
       "95   종달리수국길  여행 사진 종달리해안도로 성산일출봉 동쪽 공간 산책 계획 검색 바람 바다 기도 주차...\n",
       "96  녹산로유채꽃길  벚꽃 유채꽃길 축제 유채꽃 여행 조랑말체험공원 노란 프라자 사진 거리 계획 바람 관...\n",
       "97    스누피가든  공간 정원 기념품 만화 여행 주차장 캐릭터 찰리 산책 사진 거리 겨울 자연 계획 판...\n",
       "98  제주센트럴파크  센트럴파크 서울 공간 메뉴 안녕하세요 한세상 거리 계획 인천 세대 인천광역시 여행 ...\n",
       "99   김택화미술관  김택화 공간 신흥로 커피 미술관 안녕하세요 동영상 신흥리 메뉴 사진 여행 서울 전시...\n",
       "\n",
       "[100 rows x 2 columns]"
      ]
     },
     "execution_count": 391,
     "metadata": {},
     "output_type": "execute_result"
    }
   ],
   "source": [
    "test_df"
   ]
  },
  {
   "cell_type": "code",
   "execution_count": 392,
   "id": "6959773d",
   "metadata": {},
   "outputs": [],
   "source": [
    "result_df = test_df.copy()"
   ]
  },
  {
   "cell_type": "code",
   "execution_count": null,
   "id": "58549815",
   "metadata": {},
   "outputs": [],
   "source": [
    "result_df['keyword'][0]"
   ]
  },
  {
   "cell_type": "code",
   "execution_count": null,
   "id": "e67b7ddd",
   "metadata": {},
   "outputs": [],
   "source": []
  }
 ],
 "metadata": {
  "kernelspec": {
   "display_name": "Python 3 (ipykernel)",
   "language": "python",
   "name": "python3"
  },
  "language_info": {
   "codemirror_mode": {
    "name": "ipython",
    "version": 3
   },
   "file_extension": ".py",
   "mimetype": "text/x-python",
   "name": "python",
   "nbconvert_exporter": "python",
   "pygments_lexer": "ipython3",
   "version": "3.9.7"
  }
 },
 "nbformat": 4,
 "nbformat_minor": 5
}
